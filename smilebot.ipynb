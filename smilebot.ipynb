{
  "nbformat": 4,
  "nbformat_minor": 0,
  "metadata": {
    "colab": {
      "name": "smilebot",
      "provenance": [],
      "collapsed_sections": [],
      "authorship_tag": "ABX9TyOV18CGZgS9ZllbSgR8vnMA",
      "include_colab_link": true
    },
    "kernelspec": {
      "name": "python3",
      "display_name": "Python 3"
    }
  },
  "cells": [
    {
      "cell_type": "markdown",
      "metadata": {
        "id": "view-in-github",
        "colab_type": "text"
      },
      "source": [
        "<a href=\"https://colab.research.google.com/github/bhardwaj-123/SmileBot-1/blob/master/smilebot.ipynb\" target=\"_parent\"><img src=\"https://colab.research.google.com/assets/colab-badge.svg\" alt=\"Open In Colab\"/></a>"
      ]
    },
    {
      "cell_type": "code",
      "metadata": {
        "id": "Dv4EdYLQlkB1",
        "colab_type": "code",
        "colab": {}
      },
      "source": [
        "reflections = {\n",
        "  \"i am\"       : \"you are\",\n",
        "  \"i was\"      : \"you were\",\n",
        "  \"i\"          : \"you\",\n",
        "  \"i'm\"        : \"you are\",\n",
        "  \"i'd\"        : \"you would\",\n",
        "  \"i've\"       : \"you have\",\n",
        "  \"i'll\"       : \"you will\",\n",
        "  \"my\"         : \"your\",\n",
        "  \"you are\"    : \"I am\",\n",
        "  \"you were\"   : \"I was\",\n",
        "  \"you've\"     : \"I have\",\n",
        "  \"you'll\"     : \"I will\",\n",
        "  \"your\"       : \"my\",\n",
        "  \"yours\"      : \"mine\",\n",
        "  \"you\"        : \"me\",\n",
        "  \"me\"         : \"you\"\n",
        "}"
      ],
      "execution_count": 1,
      "outputs": []
    },
    {
      "cell_type": "code",
      "metadata": {
        "id": "Be2n2Ih6lvlB",
        "colab_type": "code",
        "colab": {}
      },
      "source": [
        "my_dummy_reflections= {\n",
        "    \"hello\"    : \"hey there how can i help you\",\n",
        "    \"not well\" : \"what happened , can i play music or audio book will help you \",\n",
        "    \"help\"     : \"what help you want i can give any information to you \"\n",
        "    \n",
        "}"
      ],
      "execution_count": 2,
      "outputs": []
    },
    {
      "cell_type": "code",
      "metadata": {
        "id": "SJpfoCaUs2ur",
        "colab_type": "code",
        "colab": {}
      },
      "source": [
        ""
      ],
      "execution_count": null,
      "outputs": []
    },
    {
      "cell_type": "code",
      "metadata": {
        "id": "CC5SDnOwoesh",
        "colab_type": "code",
        "colab": {
          "base_uri": "https://localhost:8080/",
          "height": 554
        },
        "outputId": "1fc3f000-a98e-493b-f788-c12bd23e5b9b"
      },
      "source": [
        "from nltk.chat.util import Chat, reflections\n",
        "pairs = [\n",
        "    [\n",
        "        r\"my name is (.*)\",\n",
        "        [\"Hello %1, How are you today ?\",]\n",
        "    ],\n",
        "     [\n",
        "        r\"what is your name ?\",\n",
        "        [\"My name is smilly and I'm a smilebot ?\",]\n",
        "    ],\n",
        "    [\n",
        "        r\"how are you ?\",\n",
        "        [\"I'm doing good\\nHow about You ?\",]\n",
        "    ],\n",
        "    [\n",
        "        r\"sorry (.*)\",\n",
        "        [\"Its alright\",\"Its OK, never mind\",]\n",
        "    ],\n",
        "    [\n",
        "        r\"i'm (.*) doing good\",\n",
        "        [\"Nice to hear that\",\"Alright :)\",]\n",
        "    ],\n",
        "    [\n",
        "        r\"hi|hey|hello\",\n",
        "        [\"Hello\", \"Hey there\",]\n",
        "    ],\n",
        "    [\n",
        "        r\"(.*) age?\",\n",
        "        [\"I'm a computer program dude\\nSeriously you are asking me this?\",]\n",
        "        \n",
        "    ],\n",
        "    [\n",
        "        r\"what (.*) want ?\",\n",
        "        [\"Make me an offer I can't refuse\",]\n",
        "        \n",
        "    ],\n",
        "    [\n",
        "        r\"what (.*) do for (.*) ?\",\n",
        "        [\"Make me an offer I can't refuse\\n1.i can play music for you\\n2.i can help you with audio books\\n3. i can book movie ticket so that your mood will be nice\\nyou can say me anything i will do it for you\",]\n",
        "        \n",
        "    ],\n",
        "    [\n",
        "        r\"(.*) created ?\",\n",
        "        [\"shivani created me using Python's NLTK library \",\"top secret ;)\",]\n",
        "    ],\n",
        "    [\n",
        "        r\"(.*) (location|city) ?\",\n",
        "        ['jamshedpur, Jharkhand',]\n",
        "    ],\n",
        "    [\n",
        "        r\"how is weather in (.*)?\",\n",
        "        [\"Weather in %1 is awesome like always\",\"Too hot man here in %1\",\"Too cold man here in %1\",\"Never even heard about %1\"]\n",
        "    ],\n",
        "    \n",
        "    [\n",
        "        r\"(.*)raining in (.*)\",\n",
        "        [\"No rain since last week here in %2\",\"Damn its raining too much here in %2\"]\n",
        "    ],\n",
        "    [\n",
        "        r\"how (.*) health(.*)\",\n",
        "        [\"I'm a computer program, so I'm always healthy \",]\n",
        "    ],\n",
        "    [\n",
        "        r\"(.*) (sports|game) ?\",\n",
        "        [\"I'm a very big fan of Football , i can play online you cant defeat me lets play ?\",]\n",
        "    ],\n",
        "    [\n",
        "        r\"who (.*) sportsperson ?\",\n",
        "        [\"Messy\",\"Ronaldo\",\"Roony\"]\n",
        "],\n",
        "    [\n",
        "        r\"who (.*) (moviestar|actor)?\",\n",
        "        [\"Brad Pitt\"]\n",
        "],\n",
        "    [\n",
        "        r\"quit\",\n",
        "        [\"BBye take care. See you soon :) \",\"It was nice talking to you. See you soon :)\"]\n",
        "   ]\n",
        "]\n",
        "def chatty():\n",
        "        print(\"Hi, I'm Chatty and I chat alot ;)\\nPlease type lowercase English language to start a conversation. Type quit to leave \") #default message at the start\n",
        "        chat = Chat(pairs, reflections);\n",
        "        chat.converse()\n",
        "if __name__ == \"__main__\":\n",
        "    chatty()"
      ],
      "execution_count": 2,
      "outputs": [
        {
          "output_type": "stream",
          "text": [
            "Hi, I'm Chatty and I chat alot ;)\n",
            "Please type lowercase English language to start a conversation. Type quit to leave \n",
            ">hello, this is shivani\n",
            "Hey there\n",
            ">how are you\n",
            "I'm doing good\n",
            "How about You ?\n",
            ">nice , i am doing good\n",
            "None\n",
            ">what is your age\n",
            "I'm a computer program dude\n",
            "Seriously you are asking me this?\n",
            ">sorry simlly\n",
            "Its alright\n",
            ">what is your name\n",
            "My name is smilly and I'm a smilebot ?\n",
            ">what is your location\n",
            "jamshedpur, Jharkhand\n",
            ">what can you do for me\n",
            "Make me an offer I can't refuse\n",
            "1.i can play music for you\n",
            "2.i can help you with audio books\n",
            "3. i can book movie ticket so that your mood will be nice\n",
            "you can say me anything i will do it for you\n",
            ">is it raining in jamshedpur\n",
            "No rain since last week here in jamshedpur\n",
            ">who created you\n",
            "top secret ;)\n",
            ">how is your health \n",
            "I'm a computer program, so I'm always healthy \n",
            ">quit\n",
            "It was nice talking to you. See you soon :)\n"
          ],
          "name": "stdout"
        }
      ]
    }
  ]
}